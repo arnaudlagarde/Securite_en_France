{
 "cells": [
  {
   "cell_type": "code",
   "execution_count": 1,
   "id": "a547176e-e2b4-4608-b733-4adbf7fae478",
   "metadata": {},
   "outputs": [
    {
     "name": "stdout",
     "output_type": "stream",
     "text": [
      "Requirement already satisfied: openpyxl in /opt/conda/lib/python3.11/site-packages (3.1.2)\n",
      "Requirement already satisfied: et-xmlfile in /opt/conda/lib/python3.11/site-packages (from openpyxl) (1.1.0)\n"
     ]
    }
   ],
   "source": [
    "# Importation des bibliothèques nécessaires\n",
    "import pandas as pd\n",
    "import numpy as np\n",
    "import matplotlib.pyplot as plt\n",
    "import seaborn as sns\n",
    "\n",
    "# Configuration pour les graphiques\n",
    "%matplotlib inline\n",
    "plt.style.use('seaborn-v0_8-darkgrid')\n",
    "\n",
    "\n",
    "# Bibliothèque pour la lecture des fichiers Excel\n",
    "!pip install openpyxl\n",
    "import openpyxl\n",
    "\n",
    "# Optionnel : affichage de toutes les colonnes du DataFrame\n",
    "pd.set_option('display.max_columns', None)\n",
    "\n",
    "# Optionnel : ajustement de la largeur des colonnes pour un meilleur affichage\n",
    "pd.set_option('display.max_colwidth', None)\n",
    "\n",
    "# Optionnel : pour augmenter la limite de lignes affichées dans les outputs du notebook\n",
    "pd.set_option('display.max_rows', 500)\n"
   ]
  },
  {
   "cell_type": "code",
   "execution_count": 18,
   "id": "0fa144e5-c521-4fb1-8daa-c76fbaa27d62",
   "metadata": {},
   "outputs": [
    {
     "name": "stdout",
     "output_type": "stream",
     "text": [
      "   Valeurs Unite_temps  \\\n",
      "0  14359.0  2011-01-01   \n",
      "1  13822.0  2011-02-01   \n",
      "2  16097.0  2011-03-01   \n",
      "3  15351.0  2011-04-01   \n",
      "4  16603.0  2011-05-01   \n",
      "\n",
      "                                                        Titre  \\\n",
      "0  Vols de véhicules enregistrés par les services de sécurité   \n",
      "1  Vols de véhicules enregistrés par les services de sécurité   \n",
      "2  Vols de véhicules enregistrés par les services de sécurité   \n",
      "3  Vols de véhicules enregistrés par les services de sécurité   \n",
      "4  Vols de véhicules enregistrés par les services de sécurité   \n",
      "\n",
      "             Ordonnees                                     Indicateur  \\\n",
      "0  Nombre de véhicules  Vols et tentatives de vols liés aux véhicules   \n",
      "1  Nombre de véhicules  Vols et tentatives de vols liés aux véhicules   \n",
      "2  Nombre de véhicules  Vols et tentatives de vols liés aux véhicules   \n",
      "3  Nombre de véhicules  Vols et tentatives de vols liés aux véhicules   \n",
      "4  Nombre de véhicules  Vols et tentatives de vols liés aux véhicules   \n",
      "\n",
      "                                                                                                          Source  \\\n",
      "0  Etat 4001, base historique des crimes et délits enregistrés par la police et la gendarmerie, traitement SSMSI   \n",
      "1  Etat 4001, base historique des crimes et délits enregistrés par la police et la gendarmerie, traitement SSMSI   \n",
      "2  Etat 4001, base historique des crimes et délits enregistrés par la police et la gendarmerie, traitement SSMSI   \n",
      "3  Etat 4001, base historique des crimes et délits enregistrés par la police et la gendarmerie, traitement SSMSI   \n",
      "4  Etat 4001, base historique des crimes et délits enregistrés par la police et la gendarmerie, traitement SSMSI   \n",
      "\n",
      "                                                                                                 SourceGraphique  \\\n",
      "0  Etat 4001, base historique des crimes et délits enregistrés par la police et la gendarmerie, traitement SSMSI   \n",
      "1  Etat 4001, base historique des crimes et délits enregistrés par la police et la gendarmerie, traitement SSMSI   \n",
      "2  Etat 4001, base historique des crimes et délits enregistrés par la police et la gendarmerie, traitement SSMSI   \n",
      "3  Etat 4001, base historique des crimes et délits enregistrés par la police et la gendarmerie, traitement SSMSI   \n",
      "4  Etat 4001, base historique des crimes et délits enregistrés par la police et la gendarmerie, traitement SSMSI   \n",
      "\n",
      "     Sous_indicateur   Nomenclature    Declinaison Statistique  \\\n",
      "0  Vols de véhicules  Non Renseigné  Non Renseigné      Nombre   \n",
      "1  Vols de véhicules  Non Renseigné  Non Renseigné      Nombre   \n",
      "2  Vols de véhicules  Non Renseigné  Non Renseigné      Nombre   \n",
      "3  Vols de véhicules  Non Renseigné  Non Renseigné      Nombre   \n",
      "4  Vols de véhicules  Non Renseigné  Non Renseigné      Nombre   \n",
      "\n",
      "       Zone_geographique                  Champ Periodicite Unite_de_compte  \\\n",
      "0  France métropolitaine  France métropolitaine   Mensuelle       Véhicules   \n",
      "1  France métropolitaine  France métropolitaine   Mensuelle       Véhicules   \n",
      "2  France métropolitaine  France métropolitaine   Mensuelle       Véhicules   \n",
      "3  France métropolitaine  France métropolitaine   Mensuelle       Véhicules   \n",
      "4  France métropolitaine  France métropolitaine   Mensuelle       Véhicules   \n",
      "\n",
      "    Correction  \n",
      "0  Série brute  \n",
      "1  Série brute  \n",
      "2  Série brute  \n",
      "3  Série brute  \n",
      "4  Série brute  \n",
      "0   2011-01-01\n",
      "1   2011-02-01\n",
      "2   2011-03-01\n",
      "3   2011-04-01\n",
      "4   2011-05-01\n",
      "Name: Unite_temps, dtype: datetime64[ns]\n"
     ]
    }
   ],
   "source": [
    "import pandas as pd\n",
    "import matplotlib.pyplot as plt\n",
    "import seaborn as sns\n",
    "\n",
    "# Lecture du fichier\n",
    "file_path = '/home/jovyan/work/base-series-chronologiques.csv'\n",
    "df = pd.read_csv(file_path, sep=';', encoding='ISO-8859-1')\n",
    "\n",
    "# Remplacement de 'M' par '-' dans la colonne 'Unite_temps'\n",
    "df['Unite_temps'] = df['Unite_temps'].str.replace('M', '-')\n",
    "\n",
    "# Conversion de la colonne de temps en datetime, gestion des erreurs\n",
    "df['Unite_temps'] = pd.to_datetime(df['Unite_temps'], errors='coerce')\n",
    "\n",
    "# Nettoyage de la colonne 'Valeurs' \n",
    "# 1. Remplacer les espaces et convertir en numérique avec gestion des valeurs non numériques (NaN)\n",
    "df['Valeurs'] = pd.to_numeric(df['Valeurs'].str.replace(' ', ''), errors='coerce')\n",
    "\n",
    "# Afficher les premières lignes\n",
    "print(df.head())\n",
    "\n",
    "# Vérifier les résultats après la conversion\n",
    "print(df['Unite_temps'].head())\n"
   ]
  },
  {
   "cell_type": "code",
   "execution_count": null,
   "id": "51caba4e-0c75-4dc1-963b-aea8cb98c8db",
   "metadata": {},
   "outputs": [],
   "source": [
    "# Convertir la colonne de temps en format datetime si nécessaire\n",
    "# Exemple : df['Date'] = pd.to_datetime(df['Unite_temps'])\n",
    "\n",
    "# Créer des graphiques pour visualiser les tendances\n",
    "import matplotlib.pyplot as plt\n",
    "import seaborn as sns\n",
    "\n",
    "plt.figure(figsize=(12, 6))\n",
    "sns.lineplot(x='Date', y='Valeurs', data=df)\n",
    "plt.title('Tendance Temporelle des Indicateurs')\n",
    "plt.xticks(rotation=45)\n",
    "plt.show()\n"
   ]
  }
 ],
 "metadata": {
  "kernelspec": {
   "display_name": "Python 3 (ipykernel)",
   "language": "python",
   "name": "python3"
  },
  "language_info": {
   "codemirror_mode": {
    "name": "ipython",
    "version": 3
   },
   "file_extension": ".py",
   "mimetype": "text/x-python",
   "name": "python",
   "nbconvert_exporter": "python",
   "pygments_lexer": "ipython3",
   "version": "3.11.6"
  }
 },
 "nbformat": 4,
 "nbformat_minor": 5
}
